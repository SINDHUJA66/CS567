{
  "nbformat": 4,
  "nbformat_minor": 0,
  "metadata": {
    "colab": {
      "provenance": []
    },
    "kernelspec": {
      "name": "python3",
      "display_name": "Python 3"
    },
    "language_info": {
      "name": "python"
    }
  },
  "cells": [
    {
      "cell_type": "markdown",
      "source": [
        "### Code Implementation"
      ],
      "metadata": {
        "id": "L0FVbJO7p3uU"
      }
    },
    {
      "cell_type": "code",
      "execution_count": 26,
      "metadata": {
        "colab": {
          "base_uri": "https://localhost:8080/"
        },
        "id": "a46j7HvnpfbU",
        "outputId": "12953d16-79da-4474-d0fb-74dc5845ce53"
      },
      "outputs": [
        {
          "output_type": "stream",
          "name": "stdout",
          "text": [
            "Overwriting sorting_and_searching.py\n"
          ]
        }
      ],
      "source": [
        "%%writefile sorting_and_searching.py\n",
        "\n",
        "\n",
        "def merge_sort(arr):\n",
        "    if len(arr) <= 1:\n",
        "        return arr\n",
        "    mid = len(arr) // 2\n",
        "    left = merge_sort(arr[:mid])\n",
        "    right = merge_sort(arr[mid:])\n",
        "    return merge(left, right)\n",
        "\n",
        "\n",
        "def merge(left, right):\n",
        "    result = []\n",
        "    i = j = 0\n",
        "    while i < len(left) and j < len(right):\n",
        "        if left[i] <= right[j]:\n",
        "            result.append(left[i])\n",
        "            i += 1\n",
        "        else:\n",
        "            result.append(right[j])\n",
        "            j += 1\n",
        "    result.extend(left[i:])\n",
        "    result.extend(right[j:])\n",
        "    return result\n",
        "\n",
        "\n",
        "def quick_sort(arr):\n",
        "    if len(arr) <= 1:\n",
        "        return arr\n",
        "    pivot = arr[0]\n",
        "    left = [x for x in arr[1:] if x < pivot]\n",
        "    right = [x for x in arr[1:] if x >= pivot]\n",
        "    return quick_sort(left) + [pivot] + quick_sort(right)\n",
        "\n",
        "\n",
        "def binary_search(arr, target):\n",
        "    low, high = 0, len(arr) - 1\n",
        "    while low <= high:\n",
        "        mid = (low + high) // 2\n",
        "        if arr[mid] == target:\n",
        "            return mid\n",
        "        elif arr[mid] < target:\n",
        "            low = mid + 1\n",
        "        else:\n",
        "            high = mid - 1\n",
        "    return -1\n",
        "\n",
        "\n",
        "def linear_search(arr, target):\n",
        "    for index, value in enumerate(arr):\n",
        "        if value == target:\n",
        "            return index\n",
        "    return -1\n",
        "\n",
        "\n",
        "def reverse_array(arr):\n",
        "    return arr[::-1]\n",
        "\n",
        "\n",
        "def is_sorted(arr):\n",
        "    for i in range(len(arr) - 1):\n",
        "        if arr[i] > arr[i + 1]:\n",
        "            return False\n",
        "    return True\n",
        "\n",
        "\n",
        "def bubble_sort(arr):\n",
        "    n = len(arr)\n",
        "    for i in range(n):\n",
        "        for j in range(0, n-i-1):\n",
        "            if arr[j] > arr[j+1]:\n",
        "                arr[j], arr[j+1] = arr[j+1], arr[j]\n",
        "    return arr\n",
        "\n",
        "\n",
        "def selection_sort(arr):\n",
        "    for i in range(len(arr)):\n",
        "        min_idx = i\n",
        "        for j in range(i+1, len(arr)):\n",
        "            if arr[j] < arr[min_idx]:\n",
        "                min_idx = j\n",
        "        arr[i], arr[min_idx] = arr[min_idx], arr[i]\n",
        "    return arr\n",
        "\n",
        "\n",
        "def insertion_sort(arr):\n",
        "    for i in range(1, len(arr)):\n",
        "        key = arr[i]\n",
        "        j = i - 1\n",
        "        while j >= 0 and key < arr[j]:\n",
        "            arr[j + 1] = arr[j]\n",
        "            j -= 1\n",
        "        arr[j + 1] = key\n",
        "    return arr\n",
        "\n",
        "\n",
        "def generate_random_array(size, lower, upper):\n",
        "    import random\n",
        "    return [random.randint(lower, upper) for _ in range(size)]\n"
      ]
    },
    {
      "cell_type": "markdown",
      "source": [
        "## Test Code"
      ],
      "metadata": {
        "id": "7rSD6yxKp-e0"
      }
    },
    {
      "cell_type": "code",
      "source": [
        "%%writefile test_sorting_and_searching.py\n",
        "\n",
        "import unittest\n",
        "from sorting_and_searching import (\n",
        "    merge_sort,\n",
        "    quick_sort,\n",
        "    binary_search,\n",
        "    linear_search,\n",
        "    bubble_sort,\n",
        "    selection_sort,\n",
        "    insertion_sort,\n",
        "    is_sorted,\n",
        "    reverse_array,\n",
        ")\n",
        "\n",
        "class TestSortingAndSearching(unittest.TestCase):\n",
        "    def setUp(self):\n",
        "        self.test_array = [3, 1, 4, 1, 5, 9, 2, 6, 5, 3]\n",
        "        self.sorted_array = sorted(self.test_array)\n",
        "\n",
        "    def test_merge_sort(self):\n",
        "        self.assertEqual(merge_sort(self.test_array), self.sorted_array)\n",
        "\n",
        "    def test_quick_sort(self):\n",
        "        self.assertEqual(quick_sort(self.test_array), self.sorted_array)\n",
        "\n",
        "    # def test_bubble_sort(self):\n",
        "    #     self.assertEqual(bubble_sort(self.test_array.copy()), self.sorted_array)\n",
        "\n",
        "    def test_selection_sort(self):\n",
        "        self.assertEqual(selection_sort(self.test_array.copy()), self.sorted_array)\n",
        "\n",
        "    def test_insertion_sort(self):\n",
        "        self.assertEqual(insertion_sort(self.test_array.copy()), self.sorted_array)\n",
        "\n",
        "    def test_reverse_array(self):\n",
        "        reversed_array = reverse_array(self.sorted_array)\n",
        "        self.assertEqual(reversed_array, self.sorted_array[::-1])\n",
        "\n",
        "    def test_is_sorted(self):\n",
        "        self.assertTrue(is_sorted(self.sorted_array))\n",
        "        self.assertFalse(is_sorted(self.test_array))\n",
        "\n",
        "    def test_binary_search(self):\n",
        "        index = binary_search(self.sorted_array, 5)\n",
        "        self.assertTrue(index in range(len(self.sorted_array)) and self.sorted_array[index] == 5)\n",
        "\n",
        "    def test_linear_search(self):\n",
        "        index = linear_search(self.test_array, 5)\n",
        "        self.assertTrue(index in range(len(self.test_array)) and self.test_array[index] == 5)\n",
        "\n",
        "if __name__ == \"__main__\":\n",
        "    unittest.main()\n",
        "\n"
      ],
      "metadata": {
        "colab": {
          "base_uri": "https://localhost:8080/"
        },
        "id": "riphsFrQpwOw",
        "outputId": "f4d92a7c-4df7-46a9-86c8-2e97e5d082c8"
      },
      "execution_count": 27,
      "outputs": [
        {
          "output_type": "stream",
          "name": "stdout",
          "text": [
            "Overwriting test_sorting_and_searching.py\n"
          ]
        }
      ]
    },
    {
      "cell_type": "markdown",
      "source": [
        "## Installing Coverage and Mutation testing tools"
      ],
      "metadata": {
        "id": "c2ndTab8r5Ne"
      }
    },
    {
      "cell_type": "code",
      "source": [
        "!pip install mutpy"
      ],
      "metadata": {
        "colab": {
          "base_uri": "https://localhost:8080/"
        },
        "id": "RqMVq5sdqJa2",
        "outputId": "a0254c0d-22fe-44f4-aa52-03c57b5cd3db"
      },
      "execution_count": 18,
      "outputs": [
        {
          "output_type": "stream",
          "name": "stdout",
          "text": [
            "Requirement already satisfied: mutpy in /usr/local/lib/python3.10/dist-packages (0.6.1)\n",
            "Requirement already satisfied: Jinja2>=2.7.1 in /usr/local/lib/python3.10/dist-packages (from mutpy) (3.1.4)\n",
            "Requirement already satisfied: termcolor>=1.0.0 in /usr/local/lib/python3.10/dist-packages (from mutpy) (2.5.0)\n",
            "Requirement already satisfied: astmonkey>=0.2.2 in /usr/local/lib/python3.10/dist-packages (from mutpy) (0.3.6)\n",
            "Requirement already satisfied: PyYAML>=3.10 in /usr/local/lib/python3.10/dist-packages (from mutpy) (6.0.2)\n",
            "Requirement already satisfied: pydot in /usr/local/lib/python3.10/dist-packages (from astmonkey>=0.2.2->mutpy) (3.0.3)\n",
            "Requirement already satisfied: MarkupSafe>=2.0 in /usr/local/lib/python3.10/dist-packages (from Jinja2>=2.7.1->mutpy) (3.0.2)\n",
            "Requirement already satisfied: pyparsing>=3.0.9 in /usr/local/lib/python3.10/dist-packages (from pydot->astmonkey>=0.2.2->mutpy) (3.2.0)\n"
          ]
        }
      ]
    },
    {
      "cell_type": "markdown",
      "source": [
        "## Code Coverage testing"
      ],
      "metadata": {
        "id": "-pdRj2DSsAa8"
      }
    },
    {
      "cell_type": "code",
      "source": [
        "code = \"\"\"\n",
        "# Sorting and Searching Algorithms\n",
        "def merge_sort(arr):\n",
        "    if len(arr) <= 1:\n",
        "        return arr\n",
        "    mid = len(arr) // 2\n",
        "    left = merge_sort(arr[:mid])\n",
        "    right = merge_sort(arr[mid:])\n",
        "    return merge(left, right)\n",
        "\n",
        "def merge(left, right):\n",
        "    result = []\n",
        "    i = j = 0\n",
        "    while i < len(left) and j < len(right):\n",
        "        if left[i] <= right[j]:\n",
        "            result.append(left[i])\n",
        "            i += 1\n",
        "        else:\n",
        "            result.append(right[j])\n",
        "            j += 1\n",
        "    result.extend(left[i:])\n",
        "    result.extend(right[j:])\n",
        "    return result\n",
        "\n",
        "def quick_sort(arr):\n",
        "    if len(arr) <= 1:\n",
        "        return arr\n",
        "    pivot = arr[0]\n",
        "    left = [x for x in arr[1:] if x < pivot]\n",
        "    right = [x for x in arr[1:] if x >= pivot]\n",
        "    return quick_sort(left) + [pivot] + quick_sort(right)\n",
        "\n",
        "def binary_search(arr, target):\n",
        "    low, high = 0, len(arr) - 1\n",
        "    while low <= high:\n",
        "        mid = (low + high) // 2\n",
        "        if arr[mid] == target:\n",
        "            return mid\n",
        "        elif arr[mid] < target:\n",
        "            low = mid + 1\n",
        "        else:\n",
        "            high = mid - 1\n",
        "    return -1\n",
        "\n",
        "def linear_search(arr, target):\n",
        "    for index, value in enumerate(arr):\n",
        "        if value == target:\n",
        "            return index\n",
        "    return -1\n",
        "\"\"\"\n",
        "\n",
        "with open(\"sorting_and_searching.py\", \"w\") as f:\n",
        "    f.write(code)\n"
      ],
      "metadata": {
        "id": "-peut4Ulrjpw"
      },
      "execution_count": 14,
      "outputs": []
    },
    {
      "cell_type": "markdown",
      "source": [
        "## Coverage testing"
      ],
      "metadata": {
        "id": "fCRHWmSasHzZ"
      }
    },
    {
      "cell_type": "code",
      "source": [
        "!pytest --cov=sorting_and_searching sorting_and_searching.py\n"
      ],
      "metadata": {
        "colab": {
          "base_uri": "https://localhost:8080/"
        },
        "id": "qRR-g17NrnSS",
        "outputId": "3a5dcd08-66a1-42f3-ce5d-8bd12c2e5898"
      },
      "execution_count": 28,
      "outputs": [
        {
          "output_type": "stream",
          "name": "stdout",
          "text": [
            "\u001b[1m======================================= test session starts ========================================\u001b[0m\n",
            "platform linux -- Python 3.10.12, pytest-8.3.4, pluggy-1.5.0\n",
            "rootdir: /content\n",
            "plugins: cov-6.0.0, typeguard-4.4.1, anyio-3.7.1\n",
            "\u001b[1mcollecting ... \u001b[0m\u001b[1m\rcollected 0 items                                                                                  \u001b[0m\n",
            "\n",
            "\n",
            "---------- coverage: platform linux, python 3.10.12-final-0 ----------\n",
            "Name                       Stmts   Miss  Cover\n",
            "----------------------------------------------\n",
            "sorting_and_searching.py      75     64    15%\n",
            "----------------------------------------------\n",
            "TOTAL                         75     64    15%\n",
            "\n",
            "\u001b[33m====================================== \u001b[33mno tests ran\u001b[0m\u001b[33m in 0.04s\u001b[0m\u001b[33m =======================================\u001b[0m\n"
          ]
        }
      ]
    },
    {
      "cell_type": "markdown",
      "source": [
        "## Mutation testing"
      ],
      "metadata": {
        "id": "N3FOx-7csML5"
      }
    },
    {
      "cell_type": "code",
      "source": [
        "!mut.py --target sorting_and_searching --unit-test test_sorting_and_searching\n"
      ],
      "metadata": {
        "colab": {
          "base_uri": "https://localhost:8080/"
        },
        "id": "Bg6cFD-Frrak",
        "outputId": "296f0a1e-3238-4026-f0f9-fdebc83b5629"
      },
      "execution_count": 29,
      "outputs": [
        {
          "output_type": "stream",
          "name": "stdout",
          "text": [
            "[*] Start mutation process:\n",
            "   - targets: sorting_and_searching\n",
            "   - tests: test_sorting_and_searching\n",
            "[*] 8 tests passed:\n",
            "   - test_sorting_and_searching [0.00048 s]\n",
            "[*] Start mutants generation and execution:\n",
            "   - [#   1] AOD sorting_and_searching: [0.00652 s] survived\n",
            "   - [#   2] AOD sorting_and_searching: [0.00781 s] survived\n",
            "   - [#   3] AOD sorting_and_searching: [0.00850 s] killed by test_reverse_array (test_sorting_and_searching.TestSortingAndSearching)\n",
            "   - [#   4] AOR sorting_and_searching: [5.00731 s] timeout\n",
            "   - [#   5] AOR sorting_and_searching: [0.05249 s] killed by test_merge_sort (test_sorting_and_searching.TestSortingAndSearching)\n",
            "   - [#   6] AOR sorting_and_searching: [5.00757 s] timeout\n",
            "   - [#   7] AOR sorting_and_searching: [5.00760 s] timeout\n",
            "   - [#   8] AOR sorting_and_searching: [0.00879 s] survived\n",
            "   - [#   9] AOR sorting_and_searching: [5.00762 s] timeout\n",
            "   - [#  10] AOR sorting_and_searching: [5.00772 s] timeout\n",
            "   - [#  11] AOR sorting_and_searching: [0.00752 s] killed by test_binary_search (test_sorting_and_searching.TestSortingAndSearching)\n",
            "   - [#  12] AOR sorting_and_searching: [0.00784 s] survived\n",
            "   - [#  13] AOR sorting_and_searching: [0.00808 s] survived\n",
            "   - [#  14] AOR sorting_and_searching: [0.00848 s] survived\n",
            "   - [#  15] AOR sorting_and_searching: [0.00646 s] survived\n",
            "   - [#  16] AOR sorting_and_searching: [0.00795 s] killed by test_reverse_array (test_sorting_and_searching.TestSortingAndSearching)\n",
            "   - [#  17] AOR sorting_and_searching: [0.00713 s] killed by test_is_sorted (test_sorting_and_searching.TestSortingAndSearching)\n",
            "   - [#  18] AOR sorting_and_searching: [0.00691 s] killed by test_is_sorted (test_sorting_and_searching.TestSortingAndSearching)\n",
            "   - [#  19] AOR sorting_and_searching: [0.00905 s] survived\n",
            "   - [#  20] AOR sorting_and_searching: [0.00877 s] survived\n",
            "   - [#  21] AOR sorting_and_searching: [0.00630 s] survived\n",
            "   - [#  22] AOR sorting_and_searching: [0.00642 s] survived\n",
            "   - [#  23] AOR sorting_and_searching: [0.00654 s] survived\n",
            "   - [#  24] AOR sorting_and_searching: [0.00807 s] killed by test_selection_sort (test_sorting_and_searching.TestSortingAndSearching)\n",
            "   - [#  25] AOR sorting_and_searching: [0.00725 s] killed by test_insertion_sort (test_sorting_and_searching.TestSortingAndSearching)\n",
            "   - [#  26] AOR sorting_and_searching: [0.00790 s] killed by test_insertion_sort (test_sorting_and_searching.TestSortingAndSearching)\n",
            "   - [#  27] AOR sorting_and_searching: [0.00834 s] killed by test_insertion_sort (test_sorting_and_searching.TestSortingAndSearching)\n",
            "   - [#  28] ASR sorting_and_searching: [0.00769 s] killed by test_merge_sort (test_sorting_and_searching.TestSortingAndSearching)\n",
            "   - [#  29] ASR sorting_and_searching: [0.00794 s] killed by test_merge_sort (test_sorting_and_searching.TestSortingAndSearching)\n",
            "   - [#  30] ASR sorting_and_searching: [0.01279 s] killed by test_insertion_sort (test_sorting_and_searching.TestSortingAndSearching)\n",
            "   - [#  31] COI sorting_and_searching: [0.00825 s] killed by test_merge_sort (test_sorting_and_searching.TestSortingAndSearching)\n",
            "   - [#  32] COI sorting_and_searching: [0.00807 s] killed by test_merge_sort (test_sorting_and_searching.TestSortingAndSearching)\n",
            "   - [#  33] COI sorting_and_searching: [0.00792 s] killed by test_merge_sort (test_sorting_and_searching.TestSortingAndSearching)\n",
            "   - [#  34] COI sorting_and_searching: [0.00893 s] killed by test_quick_sort (test_sorting_and_searching.TestSortingAndSearching)\n",
            "   - [#  35] COI sorting_and_searching: [0.00719 s] killed by test_binary_search (test_sorting_and_searching.TestSortingAndSearching)\n",
            "   - [#  36] COI sorting_and_searching: [0.00697 s] killed by test_binary_search (test_sorting_and_searching.TestSortingAndSearching)\n",
            "   - [#  37] COI sorting_and_searching: [0.00693 s] killed by test_binary_search (test_sorting_and_searching.TestSortingAndSearching)\n",
            "   - [#  38] COI sorting_and_searching: [0.00731 s] killed by test_linear_search (test_sorting_and_searching.TestSortingAndSearching)\n",
            "   - [#  39] COI sorting_and_searching: [0.00703 s] killed by test_is_sorted (test_sorting_and_searching.TestSortingAndSearching)\n",
            "   - [#  40] COI sorting_and_searching: [0.00621 s] survived\n",
            "   - [#  41] COI sorting_and_searching: [0.00848 s] killed by test_selection_sort (test_sorting_and_searching.TestSortingAndSearching)\n",
            "   - [#  42] COI sorting_and_searching: [0.00737 s] killed by test_insertion_sort (test_sorting_and_searching.TestSortingAndSearching)\n",
            "   - [#  43] LCR sorting_and_searching: [0.00823 s] killed by test_merge_sort (test_sorting_and_searching.TestSortingAndSearching)\n",
            "   - [#  44] LCR sorting_and_searching: [0.00832 s] killed by test_insertion_sort (test_sorting_and_searching.TestSortingAndSearching)\n",
            "   - [#  45] ROR sorting_and_searching: [0.01012 s] killed by test_merge_sort (test_sorting_and_searching.TestSortingAndSearching)\n",
            "   - [#  46] ROR sorting_and_searching: [0.04094 s] killed by test_merge_sort (test_sorting_and_searching.TestSortingAndSearching)\n",
            "   - [#  47] ROR sorting_and_searching: [0.00832 s] killed by test_merge_sort (test_sorting_and_searching.TestSortingAndSearching)\n",
            "   - [#  48] ROR sorting_and_searching: [0.00772 s] killed by test_merge_sort (test_sorting_and_searching.TestSortingAndSearching)\n",
            "   - [#  49] ROR sorting_and_searching: [0.00787 s] killed by test_merge_sort (test_sorting_and_searching.TestSortingAndSearching)\n",
            "   - [#  50] ROR sorting_and_searching: [0.00759 s] killed by test_merge_sort (test_sorting_and_searching.TestSortingAndSearching)\n",
            "   - [#  51] ROR sorting_and_searching: [0.00810 s] killed by test_merge_sort (test_sorting_and_searching.TestSortingAndSearching)\n",
            "   - [#  52] ROR sorting_and_searching: [0.00614 s] survived\n",
            "   - [#  53] ROR sorting_and_searching: [0.00827 s] killed by test_quick_sort (test_sorting_and_searching.TestSortingAndSearching)\n",
            "   - [#  54] ROR sorting_and_searching: [0.00675 s] survived\n",
            "   - [#  55] ROR sorting_and_searching: [0.00761 s] killed by test_quick_sort (test_sorting_and_searching.TestSortingAndSearching)\n",
            "   - [#  56] ROR sorting_and_searching: [0.00798 s] killed by test_quick_sort (test_sorting_and_searching.TestSortingAndSearching)\n",
            "   - [#  57] ROR sorting_and_searching: [0.00819 s] killed by test_quick_sort (test_sorting_and_searching.TestSortingAndSearching)\n",
            "   - [#  58] ROR sorting_and_searching: [0.00848 s] killed by test_quick_sort (test_sorting_and_searching.TestSortingAndSearching)\n",
            "   - [#  59] ROR sorting_and_searching: [0.00720 s] killed by test_binary_search (test_sorting_and_searching.TestSortingAndSearching)\n",
            "   - [#  60] ROR sorting_and_searching: [0.00999 s] survived\n",
            "   - [#  61] ROR sorting_and_searching: [0.00831 s] killed by test_binary_search (test_sorting_and_searching.TestSortingAndSearching)\n",
            "   - [#  62] ROR sorting_and_searching: [0.00728 s] killed by test_binary_search (test_sorting_and_searching.TestSortingAndSearching)\n",
            "   - [#  63] ROR sorting_and_searching: [0.00741 s] survived\n",
            "   - [#  64] ROR sorting_and_searching: [0.00743 s] killed by test_linear_search (test_sorting_and_searching.TestSortingAndSearching)\n",
            "   - [#  65] ROR sorting_and_searching: [0.00737 s] killed by test_is_sorted (test_sorting_and_searching.TestSortingAndSearching)\n",
            "   - [#  66] ROR sorting_and_searching: [0.00712 s] killed by test_is_sorted (test_sorting_and_searching.TestSortingAndSearching)\n",
            "   - [#  67] ROR sorting_and_searching: [0.00642 s] survived\n",
            "   - [#  68] ROR sorting_and_searching: [0.00642 s] survived\n",
            "   - [#  69] ROR sorting_and_searching: [0.00886 s] killed by test_selection_sort (test_sorting_and_searching.TestSortingAndSearching)\n",
            "   - [#  70] ROR sorting_and_searching: [0.00628 s] survived\n",
            "   - [#  71] ROR sorting_and_searching: [0.00823 s] killed by test_insertion_sort (test_sorting_and_searching.TestSortingAndSearching)\n",
            "   - [#  72] ROR sorting_and_searching: [0.00803 s] killed by test_insertion_sort (test_sorting_and_searching.TestSortingAndSearching)\n",
            "   - [#  73] ROR sorting_and_searching: [0.00775 s] killed by test_insertion_sort (test_sorting_and_searching.TestSortingAndSearching)\n",
            "   - [#  74] ROR sorting_and_searching: [0.00627 s] survived\n",
            "   - [#  75] SIR sorting_and_searching: [0.04007 s] killed by test_merge_sort (test_sorting_and_searching.TestSortingAndSearching)\n",
            "   - [#  76] SIR sorting_and_searching: [0.04372 s] killed by test_merge_sort (test_sorting_and_searching.TestSortingAndSearching)\n",
            "   - [#  77] SIR sorting_and_searching: [0.00820 s] killed by test_merge_sort (test_sorting_and_searching.TestSortingAndSearching)\n",
            "   - [#  78] SIR sorting_and_searching: [0.01026 s] killed by test_merge_sort (test_sorting_and_searching.TestSortingAndSearching)\n",
            "   - [#  79] SIR sorting_and_searching: [0.00662 s] survived\n",
            "   - [#  80] SIR sorting_and_searching: [0.04351 s] killed by test_quick_sort (test_sorting_and_searching.TestSortingAndSearching)\n",
            "   - [#  81] SIR sorting_and_searching: [0.00815 s] killed by test_reverse_array (test_sorting_and_searching.TestSortingAndSearching)\n",
            "[*] Mutation score [26.47961 s]: 72.8%\n",
            "   - all: 81\n",
            "   - killed: 54 (66.7%)\n",
            "   - survived: 22 (27.2%)\n",
            "   - incompetent: 0 (0.0%)\n",
            "   - timeout: 5 (6.2%)\n"
          ]
        }
      ]
    },
    {
      "cell_type": "code",
      "source": [],
      "metadata": {
        "id": "1WXPLYz-z6-5"
      },
      "execution_count": 20,
      "outputs": []
    },
    {
      "cell_type": "code",
      "source": [
        "!pip install mutpy\n"
      ],
      "metadata": {
        "colab": {
          "base_uri": "https://localhost:8080/"
        },
        "id": "jRuTJLpH0IdK",
        "outputId": "96cf8f2d-7a14-4fef-88df-4bb2477bb4df"
      },
      "execution_count": 17,
      "outputs": [
        {
          "output_type": "stream",
          "name": "stdout",
          "text": [
            "Collecting mutpy\n",
            "  Using cached MutPy-0.6.1-py3-none-any.whl.metadata (10 kB)\n",
            "Requirement already satisfied: Jinja2>=2.7.1 in /usr/local/lib/python3.10/dist-packages (from mutpy) (3.1.4)\n",
            "Requirement already satisfied: termcolor>=1.0.0 in /usr/local/lib/python3.10/dist-packages (from mutpy) (2.5.0)\n",
            "Requirement already satisfied: astmonkey>=0.2.2 in /usr/local/lib/python3.10/dist-packages (from mutpy) (0.3.6)\n",
            "Requirement already satisfied: PyYAML>=3.10 in /usr/local/lib/python3.10/dist-packages (from mutpy) (6.0.2)\n",
            "Requirement already satisfied: pydot in /usr/local/lib/python3.10/dist-packages (from astmonkey>=0.2.2->mutpy) (3.0.3)\n",
            "Requirement already satisfied: MarkupSafe>=2.0 in /usr/local/lib/python3.10/dist-packages (from Jinja2>=2.7.1->mutpy) (3.0.2)\n",
            "Requirement already satisfied: pyparsing>=3.0.9 in /usr/local/lib/python3.10/dist-packages (from pydot->astmonkey>=0.2.2->mutpy) (3.2.0)\n",
            "Using cached MutPy-0.6.1-py3-none-any.whl (33 kB)\n",
            "Installing collected packages: mutpy\n",
            "Successfully installed mutpy-0.6.1\n"
          ]
        }
      ]
    },
    {
      "cell_type": "code",
      "source": [],
      "metadata": {
        "id": "AIPXp5nD0C9W"
      },
      "execution_count": 17,
      "outputs": []
    }
  ]
}